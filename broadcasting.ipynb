{
 "cells": [
  {
   "cell_type": "markdown",
   "metadata": {},
   "source": [
    "\n",
    "**PyTorchにおけるブロードキャスト機能の重要性**\n",
    "\n",
    "この講習では、PyTorchのブロードキャスト機能について学び、Pythonのfor文を使った計算との違いを理解することが目的です。\n",
    "\n",
    "# 1. Pythonのfor文による計算\n",
    "まずは、Pythonのfor文を使って、要素ごとの計算を行う例を見てみましょう。"
   ]
  },
  {
   "cell_type": "code",
   "execution_count": 7,
   "metadata": {},
   "outputs": [],
   "source": [
    "\n",
    "import torch\n",
    "\n",
    "x = torch.randn(32, 20)  # 32x20の入力データ\n",
    "y = torch.randn(1, 20)   # 1x20のパラメータ\n",
    "z = torch.zeros(32, 20)  # 結果を格納する32x20のゼロテンソル\n",
    "\n",
    "# for文を使って要素ごとの計算\n",
    "for i in range(32):\n",
    "    z[i] = x[i] + y\n",
    "\n"
   ]
  },
  {
   "cell_type": "markdown",
   "metadata": {},
   "source": [
    "\n",
    "上記のコードでは、32x20のテンソル`x`に1x20のテンソル`y`を足し算しています。for文を使うことで、一つ一つの要素に対して計算を行っています。\n",
    "\n",
    "このようなfor文のアプローチには、以下の2つの問題があります:\n",
    "\n",
    "1. **速度が遅い**: CPUでの単純なfor文は並列化されないため、計算が連続して行われ、時間がかかります。\n",
    "2. **コード複雑化**: データのサイズが大きくなるとfor文が複雑になり、間違いを起こしやすくなります。\n"
   ]
  },
  {
   "cell_type": "markdown",
   "metadata": {},
   "source": [
    "\n",
    "# 2. PyTorchのブロードキャスト機能\n",
    "一方、PyTorchのブロードキャスト機能を使うと、上記の計算をfor文無しで高速に行えます。\n"
   ]
  },
  {
   "cell_type": "code",
   "execution_count": 8,
   "metadata": {},
   "outputs": [
    {
     "name": "stdout",
     "output_type": "stream",
     "text": [
      "torch.Size([32, 20])\n"
     ]
    }
   ],
   "source": [
    "\n",
    "x = torch.randn(32, 20)\n",
    "y = torch.randn(1, 20)\n",
    "z = x + y  # ブロードキャストが自動的に行われる\n",
    "\n",
    "print(z.shape)"
   ]
  },
  {
   "cell_type": "markdown",
   "metadata": {},
   "source": [
    "\n",
    "この場合、PyTorchは自動的に`y`のサイズを(32, 20)に拡張し、要素ごとの加算を行っています。このような**ブロードキャスト**と呼ばれる機能により、for文を書く必要がなくなります。\n",
    "\n",
    "ブロードキャスト機能には以下の利点があります:\n",
    "\n",
    "1. **高速な計算**: PyTorchの演算はCUDAカーネルで高度に並列化されているため、CPUのfor文に比べて劇的に高速です。\n",
    "2. **シンプルなコード**: for文を書く必要がないため、コードが簡潔になり、間違いが起きにくくなります。\n",
    "3. **柔軟性**: テンソルの形状が異なる場合でも、ブロードキャストが自動的に形状を合わせてくれます。\n",
    "\n",
    "# 3. ブロードキャストのルール\n",
    "ブロードキャストが適用されるためには、テンソルの形状が特定のルールに従う必要があります。主なルールは以下の通りです:\n",
    "\n",
    "- 各次元のサイズが1、または同じ値の場合、両方のテンソルを通してブロードキャストできます。\n",
    "- サイズが1の次元は、その次元で必要な回数だけ繰り返されます。\n",
    "\n",
    "例えば、`x`が(3, 1, 4)、`y`が(1, 5, 1)の場合、以下のようにブロードキャストされます:\n",
    "\n",
    "```\n",
    "x     (3, 1, 4) \n",
    "y     (1, 5, 1)\n",
    "output (3, 5, 4)\n",
    "```\n",
    "\n",
    "このように、ブロードキャストはテンソル演算の柔軟性を高めてくれる重要な機能です。"
   ]
  },
  {
   "cell_type": "markdown",
   "metadata": {},
   "source": []
  },
  {
   "cell_type": "markdown",
   "metadata": {},
   "source": [
    "# 4. squeeze()とunsqueeze()を使ったブロードキャスト\n",
    "ブロードキャストを適用する際に、squeeze()とunsqueeze()を使ってテンソルの形状を調整することがあります。\n",
    "\n",
    "### squeeze()\n",
    "squeeze()は、サイズが1の次元を削除する関数です。この関数を使うと、不要な1次元を取り除くことができ、ブロードキャストの条件を満たしやすくなります。"
   ]
  },
  {
   "cell_type": "code",
   "execution_count": 9,
   "metadata": {},
   "outputs": [
    {
     "name": "stdout",
     "output_type": "stream",
     "text": [
      "torch.Size([32, 1, 20])\n"
     ]
    }
   ],
   "source": [
    "x = torch.randn(32, 1, 20)\n",
    "y = torch.randn(1, 20)\n",
    "\n",
    "# yをsqueezeし、形状を(20,)にする\n",
    "y = y.squeeze(0) \n",
    "\n",
    "z = x + y # ブロードキャスト可能\n",
    "print(z.shape)\n"
   ]
  },
  {
   "cell_type": "markdown",
   "metadata": {},
   "source": [
    "この例では、yのサイズが(1, 20)なので、squeeze(0)を使って先頭の1次元を削除し、(20,)の形状にしています。こうすることで、xの形状(32, 1, 20)に対してブロードキャストが可能になります。"
   ]
  },
  {
   "cell_type": "markdown",
   "metadata": {},
   "source": [
    "### unsqueeze()\n",
    "一方、unsqueeze()は、指定した位置に新しい次元(サイズ1の次元)を挿入する関数です。この関数を使うと、ブロードキャストの条件を満たすようにテンソルの形状を調整できます。"
   ]
  },
  {
   "cell_type": "code",
   "execution_count": 10,
   "metadata": {},
   "outputs": [
    {
     "name": "stdout",
     "output_type": "stream",
     "text": [
      "torch.Size([32, 20])\n"
     ]
    }
   ],
   "source": [
    "x = torch.randn(32, 20)\n",
    "y = torch.randn(20)\n",
    "\n",
    "# yをunsqueezeし、形状を(20, 1)にする\n",
    "y = y.unsqueeze(0)\n",
    "\n",
    "z = x + y # ブロードキャスト可能\n",
    "print(z.shape)"
   ]
  },
  {
   "cell_type": "markdown",
   "metadata": {},
   "source": [
    "この例では、yの形状が(20,)なので、unsqueeze(1)を使って2番目の位置に新しい次元を挿入し、(20, 1)の形状にしています。こうすることで、xの形状(32, 20)に対してブロードキャストが可能になります。\n",
    "squeeze()とunsqueeze()は、ブロードキャストの条件を満たすようにテンソルの形状を調整する上で便利な関数です。これらを上手く使うことで、柔軟にブロードキャストを適用できるようになります。"
   ]
  },
  {
   "cell_type": "markdown",
   "metadata": {},
   "source": [
    "\n",
    "# 5. まとめ\n",
    "この講習では、PyTorchのブロードキャスト機能について以下のことを学びました:\n",
    "\n",
    "- Pythonのfor文に比べて、ブロードキャストは高速で簡潔なコードを実現できます。\n",
    "- ブロードキャストは、形状の異なるテンソル同士の要素ごとの計算を自動的に行います。\n",
    "- ブロードキャストが適用されるには、テンソルの形状が特定のルールに従う必要があります。\n",
    "- ブロードキャストは柔軟性が高く、形状の異なるテンソルでも計算できるようになります。\n",
    "\n",
    "PyTorchを使う上で、ブロードキャスト機能を上手く活用することが、高速で簡潔なコードを書く上で非常に重要になります。テンソルの形状を意識しながら、ブロードキャストのメリットを最大限に活かしましょう。"
   ]
  },
  {
   "cell_type": "markdown",
   "metadata": {},
   "source": [
    "# 6. テスト\n",
    "\n",
    "\n",
    "問題文:\n",
    "入力として2つのテンソル x と y が与えられています。\n",
    "\n",
    "x は形状 (N, 3, 3) の3階テンソルで、N個の3x3行列が含まれています。\n",
    "y は形状 (N, 20, 3) の3階テンソルで、N個の20x3行列が含まれています。\n",
    "\n",
    "x の各3x3行列を y の対応する20x3行列の各行ベクトルに作用させ、その結果を計算してください。\n",
    "答えの形状は(N, 20, 3)になります．\n"
   ]
  },
  {
   "cell_type": "code",
   "execution_count": 11,
   "metadata": {},
   "outputs": [],
   "source": [
    "N = 6890\n",
    "\n",
    "x = torch.randn(N, 3, 3)\n",
    "y = torch.randn(N, 20, 3)"
   ]
  },
  {
   "cell_type": "code",
   "execution_count": null,
   "metadata": {},
   "outputs": [],
   "source": []
  }
 ],
 "metadata": {
  "kernelspec": {
   "display_name": "pbavatar",
   "language": "python",
   "name": "python3"
  },
  "language_info": {
   "codemirror_mode": {
    "name": "ipython",
    "version": 3
   },
   "file_extension": ".py",
   "mimetype": "text/x-python",
   "name": "python",
   "nbconvert_exporter": "python",
   "pygments_lexer": "ipython3",
   "version": "3.10.9"
  }
 },
 "nbformat": 4,
 "nbformat_minor": 2
}
